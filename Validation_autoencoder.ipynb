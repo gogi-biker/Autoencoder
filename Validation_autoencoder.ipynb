{
 "cells": [
  {
   "cell_type": "code",
   "execution_count": null,
   "metadata": {},
   "outputs": [],
   "source": [
    "import pandas as pd\n",
    "import numpy as np\n",
    "import matplotlib.pyplot as plt\n",
    "import seaborn as sns\n",
    "from tqdm.notebook import tqdm\n",
    "\n",
    "# plt.style.use('classic')\n",
    "\n",
    "\n",
    "import tensorflow as tf\n",
    "from tensorflow import keras\n",
    "from tensorflow.keras import layers, Model, optimizers, backend as K\n",
    "\n",
    "import torch\n",
    "from torch import nn\n",
    "import torch.nn.functional as F\n",
    "from torchsummary import summary"
   ]
  },
  {
   "cell_type": "code",
   "execution_count": null,
   "metadata": {},
   "outputs": [],
   "source": [
    "class Modelmodel:\n",
    "    \"\"\"Валидационный автоэнкодер\"\"\"\n",
    "  def __init__(self):\n",
    "    self.data = keras.datasets.mnist.load_data()\n",
    "    (self.x_train, self.y_train), (self.x_test, self.y_test) = self.data\n",
    "    self.x_train = self.x_train/255.\n",
    "    self.x_test = self.x_test/255.\n",
    "    self.number = 0\n",
    "\n",
    "    \n",
    "\n",
    "\n",
    "  def sampling(self, argss):\n",
    "     #Reparameterization trick by sampling fr an isotropic unit Gaussian.\n",
    "\n",
    "    # Arguments\n",
    "        #args (tensor): mean and log of variance of Q(z|X)\n",
    "\n",
    "    # Returns\n",
    "      #  z (tensor): sampled latent vector\n",
    "    \n",
    "    self.z_mean, self.z_log_var = argss\n",
    "    self.batch = K.shape(self.z_mean)[0]\n",
    "    self.dim = K.int_shape(self.z_mean)[1]\n",
    "    # by default, random_normal has mean=0 and std=1.0\n",
    "    self.epsilon = K.random_normal(shape=(self.batch, self.dim))\n",
    "    return self.z_mean + K.exp(0.5 * self.z_log_var) * self.epsilon\n",
    "\n",
    "  def layersinput(self):# Кодирующий слой \n",
    "    self.latent_dim = 8\n",
    "\n",
    "    self.img_inp = layers.Input((28,28,1))\n",
    "    self.x = layers.Conv2D(64, 3, padding='same', activation='relu')(self.img_inp)\n",
    "    self.x = layers.MaxPool2D(2)(self.x)\n",
    "    self.x = layers.Conv2D(64, 3, padding='same', activation='relu')(self.x)\n",
    "    self.x = layers.MaxPool2D(2)(self.x)\n",
    "    self.x = layers.Conv2D(64, 3, padding='same', activation='relu')(self.x)\n",
    "    self.x = layers.Flatten()(self.x)\n",
    "    self.mean = layers.Dense(self.latent_dim, name='mean')(self.x)\n",
    "    self.log_var = layers.Dense(self.latent_dim, name='log_var')(self.x)\n",
    "    self.encoded = layers.Lambda(self.sampling, output_shape=(self.latent_dim,), name='sample')([self.mean, self.log_var])\n",
    "\n",
    "    # mean+log_var нужны, чтобы 1) получить encoded 2) считать KL-divergence\n",
    "    # encoded идет в декодер\n",
    "    self.encoder = Model(self.img_inp, [self.mean, self.log_var, self.encoded])\n",
    "    self.encoder.summary()\n",
    "    return self.encoder\n",
    "\n",
    "  def lyersotput(self): # Декодирующиц слой \n",
    "    #self.latent_dim = 8\n",
    "    self.latent_inp = layers.Input(self.latent_dim)\n",
    "    self.cond_inp = layers.Input((10,))\n",
    "    self.x = layers.Concatenate()([self.latent_inp, self.cond_inp])\n",
    "    self.x = layers.Dense(7*7*64)(self.x)\n",
    "    self.x = layers.Reshape((7,7,64))(self.x)\n",
    "    self.x = layers.Conv2D(64, 3, activation='relu', padding='same')(self.x)\n",
    "    self.x = layers.UpSampling2D()(self.x)\n",
    "    self.x = layers.Conv2D(64, 3, activation='relu', padding='same')(self.x)\n",
    "    self.x = layers.UpSampling2D()(self.x)\n",
    "    self.x = layers.Conv2D(64, 3, activation='relu', padding='same')(self.x)\n",
    "    self.img_out = layers.Conv2D(1, 3, activation='sigmoid', padding='same')(self.x)\n",
    "\n",
    "    self.decoder = Model([self.latent_inp, self.cond_inp], self.img_out)\n",
    "    #decoder.summary()\n",
    "    return self.decoder\n",
    "\n",
    "  def vae_vae(self):# \n",
    "    self.enc = self.layersinput()\n",
    "    self.dec = self.lyersotput()\n",
    "    # реконструированная картинка\n",
    "    self.reconstruction = self.dec([self.enc(self.img_inp)[2], self.cond_inp])\n",
    "\n",
    "    self.reconstruction_loss = keras.losses.mse(K.flatten(self.img_inp), K.flatten(self.reconstruction))\n",
    "\n",
    "    # расстояние между N(mu,sigma) и N(0,1)\n",
    "    self.kl_loss = -0.5 * (1 + self.log_var - K.square(self.mean) - K.exp(self.log_var))\n",
    "    self.kl_loss = K.sum(self.kl_loss, axis=1)\n",
    "\n",
    "    self.beta = 0.001\n",
    "    self.total_loss = K.mean(self.reconstruction_loss + self.beta * self.kl_loss)\n",
    "\n",
    "    self.vae = Model([self.img_inp, self.cond_inp], self.reconstruction)\n",
    "    self.vae.add_loss(self.total_loss)\n",
    "    self.vae.add_metric(self.reconstruction_loss, name='mse')\n",
    "    self.vae.add_metric(self.kl_loss, name='kl')\n",
    "    self.vae.compile(optimizer='adam')\n",
    "    self.vae.summary()\n",
    "    return self.vae\n",
    "\n",
    "\n",
    "  def hotencod(self): # Hot_encoding\n",
    "    self.y_train_cat=tf.keras.utils.to_categorical(self.y_train, num_classes=None, dtype=\"float32\")\n",
    "    self.y_test_cat=tf.keras.utils.to_categorical(self.y_test, num_classes=None, dtype=\"float32\")\n",
    "    return self.y_train_cat, self.y_test_cat\n",
    "\n",
    "  def fit_f(self):# обчение \n",
    "    self.deff = self.vae_vae()\n",
    "    self.x = self.hotencod()\n",
    "    self.deff.fit(\n",
    "    [self.x_train, self.x[0]], self.x_train,\n",
    "    validation_data=([self.x_test, self.x[1]], self.x_test),    \n",
    "    batch_size=32,\n",
    "    epochs=10,\n",
    "    )\n",
    "\n",
    "  def predikt(self): # Тест на тестовой выборке \n",
    "    self.dec_oder = self.lyersotput()\n",
    "    self.enc_oder = self.layersinput()\n",
    "    self.pred_train, self.pred_test = self.dec.predict([self.enc.predict(self.x_train)[2],self.y_train_cat]), self.dec.predict([self.enc.predict(self.x_test)[2],self.y_test_cat])\n",
    "    print( self.pred_train.shape, self.pred_test.shape)\n",
    "    return self.pred_train, self.pred_test\n",
    "\n",
    "  def plot_plot(self, number): # Вывод цифры . Принимает любую цифру от 0 до 9.\n",
    "    self.dec_v = self.lyersotput()\n",
    "    a = np.zeros(10)\n",
    "    a[self.number] = 1\n",
    "    a = a.reshape(1,10)\n",
    "    print(a)\n",
    "    plt.figure(figsize=(10,5))\n",
    "    plt.axis('off')\n",
    "    plt.imshow(self.dec_v.predict([np.random.normal(size=(1,8)),a]).squeeze())\n",
    "    plt.show()\n",
    "    \n",
    "    \n",
    "   "
   ]
  },
  {
   "cell_type": "code",
   "execution_count": null,
   "metadata": {},
   "outputs": [],
   "source": [
    "sd = Modelmodel()\n",
    "sd.fit_f()"
   ]
  },
  {
   "cell_type": "code",
   "execution_count": null,
   "metadata": {},
   "outputs": [],
   "source": [
    "sd.predikt()"
   ]
  },
  {
   "cell_type": "code",
   "execution_count": null,
   "metadata": {},
   "outputs": [],
   "source": [
    "sd.plot_plot(7)"
   ]
  },
  {
   "cell_type": "code",
   "execution_count": null,
   "metadata": {},
   "outputs": [],
   "source": []
  },
  {
   "cell_type": "code",
   "execution_count": null,
   "metadata": {},
   "outputs": [],
   "source": []
  },
  {
   "cell_type": "code",
   "execution_count": null,
   "metadata": {},
   "outputs": [],
   "source": []
  },
  {
   "cell_type": "code",
   "execution_count": null,
   "metadata": {},
   "outputs": [],
   "source": []
  },
  {
   "cell_type": "code",
   "execution_count": null,
   "metadata": {},
   "outputs": [],
   "source": []
  },
  {
   "cell_type": "code",
   "execution_count": null,
   "metadata": {},
   "outputs": [],
   "source": []
  },
  {
   "cell_type": "code",
   "execution_count": null,
   "metadata": {},
   "outputs": [],
   "source": []
  },
  {
   "cell_type": "code",
   "execution_count": null,
   "metadata": {},
   "outputs": [],
   "source": []
  },
  {
   "cell_type": "code",
   "execution_count": null,
   "metadata": {},
   "outputs": [],
   "source": []
  },
  {
   "cell_type": "code",
   "execution_count": null,
   "metadata": {},
   "outputs": [],
   "source": []
  },
  {
   "cell_type": "code",
   "execution_count": null,
   "metadata": {},
   "outputs": [],
   "source": []
  },
  {
   "cell_type": "code",
   "execution_count": null,
   "metadata": {},
   "outputs": [],
   "source": []
  },
  {
   "cell_type": "code",
   "execution_count": null,
   "metadata": {},
   "outputs": [],
   "source": []
  }
 ],
 "metadata": {
  "kernelspec": {
   "display_name": "Python 3",
   "language": "python",
   "name": "python3"
  },
  "language_info": {
   "codemirror_mode": {
    "name": "ipython",
    "version": 3
   },
   "file_extension": ".py",
   "mimetype": "text/x-python",
   "name": "python",
   "nbconvert_exporter": "python",
   "pygments_lexer": "ipython3",
   "version": "3.8.5"
  }
 },
 "nbformat": 4,
 "nbformat_minor": 4
}

print("Hi")
